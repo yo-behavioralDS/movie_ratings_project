{
 "cells": [
  {
   "cell_type": "markdown",
   "metadata": {},
   "source": [
    "## Movie rating accuracy analysis"
   ]
  },
  {
   "cell_type": "markdown",
   "metadata": {},
   "source": [
    "I'll analyze more movie ratings data to determine whether there was any change in Fandango's rating system after Hickey's analysis."
   ]
  },
  {
   "cell_type": "code",
   "execution_count": 7,
   "metadata": {},
   "outputs": [],
   "source": [
    "import pandas as pd\n",
    "\n",
    "pd.options.display.max_columns=100"
   ]
  },
  {
   "cell_type": "code",
   "execution_count": 8,
   "metadata": {},
   "outputs": [],
   "source": [
    "prior=pd.read_csv(\"fandango_score_comparison.csv\")\n",
    "after=pd.read_csv(\"movie_ratings_16_17.csv\")"
   ]
  },
  {
   "cell_type": "code",
   "execution_count": 9,
   "metadata": {},
   "outputs": [
    {
     "data": {
      "text/plain": [
       "(146, 22)"
      ]
     },
     "execution_count": 9,
     "metadata": {},
     "output_type": "execute_result"
    }
   ],
   "source": [
    "prior.head()\n",
    "prior.shape"
   ]
  },
  {
   "cell_type": "code",
   "execution_count": 10,
   "metadata": {},
   "outputs": [
    {
     "data": {
      "text/plain": [
       "(214, 15)"
      ]
     },
     "execution_count": 10,
     "metadata": {},
     "output_type": "execute_result"
    }
   ],
   "source": [
    "after.head()\n",
    "after.shape"
   ]
  },
  {
   "cell_type": "code",
   "execution_count": 11,
   "metadata": {},
   "outputs": [],
   "source": [
    "fandango_prior=prior[['FILM', 'Fandango_Stars', 'Fandango_Ratingvalue', 'Fandango_votes', 'Fandango_Difference']].copy()\n",
    "\n",
    "fandango_after=after[['movie', 'year', 'fandango']].copy()"
   ]
  },
  {
   "cell_type": "code",
   "execution_count": 12,
   "metadata": {},
   "outputs": [
    {
     "data": {
      "text/plain": [
       "(146, 5)"
      ]
     },
     "execution_count": 12,
     "metadata": {},
     "output_type": "execute_result"
    }
   ],
   "source": [
    "fandango_prior.shape"
   ]
  },
  {
   "cell_type": "code",
   "execution_count": 13,
   "metadata": {},
   "outputs": [
    {
     "data": {
      "text/plain": [
       "(214, 3)"
      ]
     },
     "execution_count": 13,
     "metadata": {},
     "output_type": "execute_result"
    }
   ],
   "source": [
    "fandango_after.shape"
   ]
  },
  {
   "cell_type": "markdown",
   "metadata": {},
   "source": [
    "### Change of Plans"
   ]
  },
  {
   "cell_type": "markdown",
   "metadata": {},
   "source": [
    "We will tweak the current goal of analysis"
   ]
  },
  {
   "cell_type": "markdown",
   "metadata": {},
   "source": [
    "we now have two populations that we want to describe and compare with each other:\n",
    "\n",
    "All Fandango's ratings for popular movies released in 2015.\n",
    "All Fandango's ratings for popular movies released in 2016\n",
    "\n",
    "popularity is defined through Hickey's benchmark: a movie is considered \"popular\" if it had 30 fan ratings or more on Fandango's website at the time the data was collected."
   ]
  },
  {
   "cell_type": "code",
   "execution_count": 14,
   "metadata": {},
   "outputs": [
    {
     "data": {
      "text/html": [
       "<div>\n",
       "<style scoped>\n",
       "    .dataframe tbody tr th:only-of-type {\n",
       "        vertical-align: middle;\n",
       "    }\n",
       "\n",
       "    .dataframe tbody tr th {\n",
       "        vertical-align: top;\n",
       "    }\n",
       "\n",
       "    .dataframe thead th {\n",
       "        text-align: right;\n",
       "    }\n",
       "</style>\n",
       "<table border=\"1\" class=\"dataframe\">\n",
       "  <thead>\n",
       "    <tr style=\"text-align: right;\">\n",
       "      <th></th>\n",
       "      <th>FILM</th>\n",
       "      <th>Fandango_Stars</th>\n",
       "      <th>Fandango_Ratingvalue</th>\n",
       "      <th>Fandango_votes</th>\n",
       "      <th>Fandango_Difference</th>\n",
       "      <th>Title</th>\n",
       "      <th>Year</th>\n",
       "    </tr>\n",
       "  </thead>\n",
       "  <tbody>\n",
       "    <tr>\n",
       "      <th>0</th>\n",
       "      <td>Avengers: Age of Ultron (2015)</td>\n",
       "      <td>5.0</td>\n",
       "      <td>4.5</td>\n",
       "      <td>14846</td>\n",
       "      <td>0.5</td>\n",
       "      <td>Avengers: Age of Ultron</td>\n",
       "      <td>2015</td>\n",
       "    </tr>\n",
       "    <tr>\n",
       "      <th>1</th>\n",
       "      <td>Cinderella (2015)</td>\n",
       "      <td>5.0</td>\n",
       "      <td>4.5</td>\n",
       "      <td>12640</td>\n",
       "      <td>0.5</td>\n",
       "      <td>Cinderella</td>\n",
       "      <td>2015</td>\n",
       "    </tr>\n",
       "    <tr>\n",
       "      <th>2</th>\n",
       "      <td>Ant-Man (2015)</td>\n",
       "      <td>5.0</td>\n",
       "      <td>4.5</td>\n",
       "      <td>12055</td>\n",
       "      <td>0.5</td>\n",
       "      <td>Ant-Man</td>\n",
       "      <td>2015</td>\n",
       "    </tr>\n",
       "    <tr>\n",
       "      <th>3</th>\n",
       "      <td>Do You Believe? (2015)</td>\n",
       "      <td>5.0</td>\n",
       "      <td>4.5</td>\n",
       "      <td>1793</td>\n",
       "      <td>0.5</td>\n",
       "      <td>Do You Believe?</td>\n",
       "      <td>2015</td>\n",
       "    </tr>\n",
       "    <tr>\n",
       "      <th>4</th>\n",
       "      <td>Hot Tub Time Machine 2 (2015)</td>\n",
       "      <td>3.5</td>\n",
       "      <td>3.0</td>\n",
       "      <td>1021</td>\n",
       "      <td>0.5</td>\n",
       "      <td>Hot Tub Time Machine 2</td>\n",
       "      <td>2015</td>\n",
       "    </tr>\n",
       "  </tbody>\n",
       "</table>\n",
       "</div>"
      ],
      "text/plain": [
       "                             FILM  Fandango_Stars  Fandango_Ratingvalue  \\\n",
       "0  Avengers: Age of Ultron (2015)             5.0                   4.5   \n",
       "1               Cinderella (2015)             5.0                   4.5   \n",
       "2                  Ant-Man (2015)             5.0                   4.5   \n",
       "3          Do You Believe? (2015)             5.0                   4.5   \n",
       "4   Hot Tub Time Machine 2 (2015)             3.5                   3.0   \n",
       "\n",
       "   Fandango_votes  Fandango_Difference                     Title  Year  \n",
       "0           14846                  0.5  Avengers: Age of Ultron   2015  \n",
       "1           12640                  0.5               Cinderella   2015  \n",
       "2           12055                  0.5                  Ant-Man   2015  \n",
       "3            1793                  0.5          Do You Believe?   2015  \n",
       "4            1021                  0.5   Hot Tub Time Machine 2   2015  "
      ]
     },
     "execution_count": 14,
     "metadata": {},
     "output_type": "execute_result"
    }
   ],
   "source": [
    "#step 1 : isolate movies released in 2015\n",
    "fandango_prior[[\"Title\",\"Year\"]]=fandango_prior[\"FILM\"].str.extract(r'(.+)\\((\\d{4})\\)') #year in seperate column\n",
    "fandango_prior.head()\n"
   ]
  },
  {
   "cell_type": "code",
   "execution_count": 15,
   "metadata": {},
   "outputs": [
    {
     "data": {
      "text/plain": [
       "Year\n",
       "2015    129\n",
       "2014     17\n",
       "Name: count, dtype: int64"
      ]
     },
     "execution_count": 15,
     "metadata": {},
     "output_type": "execute_result"
    }
   ],
   "source": [
    "fandango_prior['Year'].value_counts()"
   ]
  },
  {
   "cell_type": "code",
   "execution_count": 16,
   "metadata": {},
   "outputs": [
    {
     "data": {
      "text/plain": [
       "Year\n",
       "2015    129\n",
       "Name: count, dtype: int64"
      ]
     },
     "execution_count": 16,
     "metadata": {},
     "output_type": "execute_result"
    }
   ],
   "source": [
    " #filter the rows where year == \"2015\"\n",
    "fandango_2015=fandango_prior[fandango_prior['Year']==\"2015\"].copy()\n",
    "fandango_2015['Year'].value_counts()  #confirm 2015 only"
   ]
  },
  {
   "cell_type": "code",
   "execution_count": 17,
   "metadata": {},
   "outputs": [
    {
     "data": {
      "text/plain": [
       "dtype('int64')"
      ]
     },
     "execution_count": 17,
     "metadata": {},
     "output_type": "execute_result"
    }
   ],
   "source": [
    "#step 2 : isolate movies released in 2016\n",
    "fandango_after['year'].dtype #check type "
   ]
  },
  {
   "cell_type": "code",
   "execution_count": 18,
   "metadata": {},
   "outputs": [
    {
     "data": {
      "text/plain": [
       "year\n",
       "2016    191\n",
       "2017     23\n",
       "Name: count, dtype: int64"
      ]
     },
     "execution_count": 18,
     "metadata": {},
     "output_type": "execute_result"
    }
   ],
   "source": [
    "fandango_after['year'].value_counts()"
   ]
  },
  {
   "cell_type": "code",
   "execution_count": 19,
   "metadata": {},
   "outputs": [
    {
     "data": {
      "text/plain": [
       "year\n",
       "2016    191\n",
       "Name: count, dtype: int64"
      ]
     },
     "execution_count": 19,
     "metadata": {},
     "output_type": "execute_result"
    }
   ],
   "source": [
    "fandango_2016=fandango_after[fandango_after['year']==2016].copy()\n",
    "fandango_2016['year'].value_counts()"
   ]
  },
  {
   "cell_type": "markdown",
   "metadata": {},
   "source": [
    "### Comparing Distribution Shapes for 2015 and 2016"
   ]
  },
  {
   "cell_type": "markdown",
   "metadata": {},
   "source": [
    "Now a comparison between Fandango's ratings for popular movies in 2015 and Fandango's ratings for popular movies in 2016 will be conducted. Analysis and Comparison will be commenced."
   ]
  },
  {
   "cell_type": "markdown",
   "metadata": {},
   "source": [
    "First, the shape of the distributions will be examined using kernel density plots."
   ]
  },
  {
   "cell_type": "code",
   "execution_count": 20,
   "metadata": {},
   "outputs": [
    {
     "name": "stdout",
     "output_type": "stream",
     "text": [
      "Index(['movie', 'year', 'fandango'], dtype='object')\n"
     ]
    }
   ],
   "source": [
    "print(fandango_2016.columns)"
   ]
  },
  {
   "cell_type": "code",
   "execution_count": 21,
   "metadata": {},
   "outputs": [
    {
     "data": {
      "image/png": "[encoded data removed]",
      "text/plain": [
       "<Figure size 800x600 with 1 Axes>"
      ]
     },
     "metadata": {},
     "output_type": "display_data"
    }
   ],
   "source": [
    "import matplotlib.pyplot as plt\n",
    "plt.style.use('fivethirtyeight') #extra styling \n",
    "\n",
    "#plotting the distribution\n",
    "fandango_2015[\"Fandango_Stars\"].plot.kde(label=\"2015\", legend=True, figsize=(8,6))\n",
    "fandango_2016[\"fandango\"].plot.kde(label=\"2016\", legend=True, )\n",
    "\n",
    "#customize it\n",
    "plt.title(\"Comparison of Fandango Movie Ratings Distributions (2015 vs 2016)\",fontsize=16)\n",
    "plt.xlabel('Stars')\n",
    "plt.ylabel('Density')\n",
    "plt.xlim(0,5) #scale of rating is 0-5\n",
    "plt.xticks([0, 0.5, 1.0, 1.5, 2.0, 2.5, 3.0, 3.5, 4.0, 4.5, 5.0]) #tick marks at every 0.5 addition\n",
    "\n",
    "\n",
    "plt.show()"
   ]
  },
  {
   "cell_type": "markdown",
   "metadata": {},
   "source": [
    "Analysis of the two kernel density plots:\n",
    "+ Both are left skewed.\n",
    "+ However, 2016 is slightly shifted to the left.\n",
    "+ Their differentiation:\n",
    "    2015 has a stronger peak around 4.5 stars\n",
    "    Meanwhile, 2016 shifts slightly lower, reaching it's peak around 4.0 stars\n",
    "+ Both distributions lean toward the higher end of the scale (4-5 stars), meaning most movies receive high ratings. However, movies released in 2016 suggest a more realistic rating pattern, which likely reflects changes in Fandango’s rating practices, as the company improved its accuracy.\n",
    "+ Overall, this shows that movies rated in 2016 were slightly lower than in 2015."
   ]
  },
  {
   "cell_type": "markdown",
   "metadata": {},
   "source": [
    "### Comparing Relative Frequencies"
   ]
  },
  {
   "cell_type": "markdown",
   "metadata": {},
   "source": [
    "The frequency tables of the two distributions will be examined. Percentages will be used instead, since the dataset contains different number of movies."
   ]
  },
  {
   "cell_type": "code",
   "execution_count": 22,
   "metadata": {},
   "outputs": [
    {
     "name": "stdout",
     "output_type": "stream",
     "text": [
      "2015: \n",
      "\n"
     ]
    },
    {
     "data": {
      "text/plain": [
       "Fandango_Stars\n",
       "3.0     8.53\n",
       "3.5    17.83\n",
       "4.0    28.68\n",
       "4.5    37.98\n",
       "5.0     6.98\n",
       "Name: proportion, dtype: float64"
      ]
     },
     "execution_count": 22,
     "metadata": {},
     "output_type": "execute_result"
    }
   ],
   "source": [
    "print(\"2015: \\n\")\n",
    "fandango_2015['Fandango_Stars'].value_counts(normalize=True).sort_index().mul(100).round(2)"
   ]
  },
  {
   "cell_type": "code",
   "execution_count": 23,
   "metadata": {},
   "outputs": [
    {
     "name": "stdout",
     "output_type": "stream",
     "text": [
      "2016: \n",
      "\n"
     ]
    },
    {
     "data": {
      "text/plain": [
       "fandango\n",
       "2.5     3.14\n",
       "3.0     7.33\n",
       "3.5    24.08\n",
       "4.0    40.31\n",
       "4.5    24.61\n",
       "5.0     0.52\n",
       "Name: proportion, dtype: float64"
      ]
     },
     "execution_count": 23,
     "metadata": {},
     "output_type": "execute_result"
    }
   ],
   "source": [
    "print(\"2016: \\n\")\n",
    "fandango_2016['fandango'].value_counts(normalize=True).sort_index().mul(100).round(2)"
   ]
  },
  {
   "cell_type": "markdown",
   "metadata": {},
   "source": [
    "High ratings such as 4.5 and 5.0 stars was much lower in percentage in 2016 than in 2015. In 2016, approximately 0.5% of movies were rated a perfect score of 5.0 stars, compared to 7% of movies were rated a perfect score in 2015. Ratings of 4.5 reached almost 38% of movies, making it the most frequent, while only 24% of movies were rated 4.5 in 2016.\n",
    "Additionally, in 2016, the minimum rating score is 2.5, meanwhile for 2015 it is 3 stars.\n",
    "Finally, in 2016, a higher proportion of movies received a 3.5 and 4.0 stars in comparison to 2015. While the density plot shows that ratings in 2016 slightly dropped, the percentages reveal that relatively high ratings such as 3.5 and 4.0 became more common. This indicates a shift from very high ratings to lower positive ratings."
   ]
  },
  {
   "cell_type": "markdown",
   "metadata": {},
   "source": [
    "### Determining the Direction of the Change"
   ]
  },
  {
   "cell_type": "code",
   "execution_count": 24,
   "metadata": {},
   "outputs": [
    {
     "name": "stdout",
     "output_type": "stream",
     "text": [
      "Simple Statistics for 2015:\n",
      "\n",
      "Mean: 4.09\n",
      "Median: 4.0\n",
      "Mode: 4.5\n"
     ]
    }
   ],
   "source": [
    "print(\"Simple Statistics for 2015:\\n\")\n",
    "mean_2015=fandango_2015['Fandango_Stars'].mean().round(2)\n",
    "median_2015 = fandango_2015['Fandango_Stars'].median()\n",
    "mode_2015 = fandango_2015['Fandango_Stars'].mode()[0]\n",
    "print(\"Mean:\",mean_2015)\n",
    "print(\"Median:\",median_2015)\n",
    "print(\"Mode:\",mode_2015)"
   ]
  },
  {
   "cell_type": "code",
   "execution_count": 25,
   "metadata": {},
   "outputs": [
    {
     "name": "stdout",
     "output_type": "stream",
     "text": [
      "Simple Statistics for 2016: \n",
      "\n",
      "Mean: 3.89\n",
      "Median: 4.0\n",
      "Mode: 4.0\n"
     ]
    }
   ],
   "source": [
    "print(\"Simple Statistics for 2016: \\n\")\n",
    "mean_2016 = fandango_2016['fandango'].mean().round(2)\n",
    "median_2016 = fandango_2016['fandango'].median()\n",
    "mode_2016 = fandango_2016['fandango'].mode()[0]\n",
    "print(\"Mean:\",mean_2016)\n",
    "print(\"Median:\",median_2016)\n",
    "print(\"Mode:\",mode_2016)"
   ]
  },
  {
   "cell_type": "code",
   "execution_count": 26,
   "metadata": {},
   "outputs": [
    {
     "data": {
      "text/html": [
       "<div>\n",
       "<style scoped>\n",
       "    .dataframe tbody tr th:only-of-type {\n",
       "        vertical-align: middle;\n",
       "    }\n",
       "\n",
       "    .dataframe tbody tr th {\n",
       "        vertical-align: top;\n",
       "    }\n",
       "\n",
       "    .dataframe thead th {\n",
       "        text-align: right;\n",
       "    }\n",
       "</style>\n",
       "<table border=\"1\" class=\"dataframe\">\n",
       "  <thead>\n",
       "    <tr style=\"text-align: right;\">\n",
       "      <th></th>\n",
       "      <th>2015</th>\n",
       "      <th>2016</th>\n",
       "    </tr>\n",
       "  </thead>\n",
       "  <tbody>\n",
       "    <tr>\n",
       "      <th>mean</th>\n",
       "      <td>4.09</td>\n",
       "      <td>3.89</td>\n",
       "    </tr>\n",
       "    <tr>\n",
       "      <th>median</th>\n",
       "      <td>4.00</td>\n",
       "      <td>4.00</td>\n",
       "    </tr>\n",
       "    <tr>\n",
       "      <th>mode</th>\n",
       "      <td>4.50</td>\n",
       "      <td>4.00</td>\n",
       "    </tr>\n",
       "  </tbody>\n",
       "</table>\n",
       "</div>"
      ],
      "text/plain": [
       "        2015  2016\n",
       "mean    4.09  3.89\n",
       "median  4.00  4.00\n",
       "mode    4.50  4.00"
      ]
     },
     "execution_count": 26,
     "metadata": {},
     "output_type": "execute_result"
    }
   ],
   "source": [
    "#SUMMARY in a table\n",
    "summary = pd.DataFrame()\n",
    "summary['2015'] = [mean_2015, median_2015, mode_2015]\n",
    "summary['2016'] = [mean_2016, median_2016, mode_2016]\n",
    "summary.index = ['mean', 'median', 'mode']\n",
    "summary"
   ]
  },
  {
   "cell_type": "code",
   "execution_count": 27,
   "metadata": {},
   "outputs": [
    {
     "data": {
      "image/png": "[encoded data removed]",
      "text/plain": [
       "<Figure size 800x500 with 1 Axes>"
      ]
     },
     "metadata": {},
     "output_type": "display_data"
    }
   ],
   "source": [
    "import numpy as np\n",
    "\n",
    "plt.style.use('fivethirtyeight')\n",
    "plt.figure(figsize=(8,5))\n",
    "\n",
    "summary['2015'].plot.bar(color = '#0066FF', align = 'center', label = '2015', width = .25)\n",
    "summary['2016'].plot.bar(color = '#CC0000', align = 'edge', label = '2016', width = .25, rot = 0)\n",
    "\n",
    "plt.title('Comparing summary statistics: 2015 vs 2016', y = 1.07)\n",
    "plt.ylim(0,5.5)\n",
    "plt.yticks(np.arange(0,5.1,.5))\n",
    "plt.ylabel('Stars')\n",
    "plt.legend(framealpha = 0, loc = 'upper center')\n",
    "plt.show()\n"
   ]
  },
  {
   "cell_type": "markdown",
   "metadata": {},
   "source": [
    "**Interpretation:**\n",
    "+ The mean dropped by 0.20 stars, which is a small yet noticeable difference\n",
    "+ The mode also shifted from 4.5 to 4.0, reinforcing the idea of slightly lower ratings.\n",
    "+ The median stayed the same, suggesting the center of the distribution is unchanged.\n"
   ]
  },
  {
   "cell_type": "markdown",
   "metadata": {},
   "source": [
    "### Conclusions"
   ]
  },
  {
   "cell_type": "markdown",
   "metadata": {},
   "source": [
    "In conclusion, this confirms what we observed before in the kernel density plot. Overall, popular movies released in 2016 received slightly lower ratings than those released in 2015. While the exact cause is not exact, it is most likely that the change resulted from Fandango improving his biased rating system after Hickey's investigation. "
   ]
  }
 ],
 "metadata": {
  "kernelspec": {
   "display_name": "portfolio_env",
   "language": "python",
   "name": "python3"
  },
  "language_info": {
   "codemirror_mode": {
    "name": "ipython",
    "version": 3
   },
   "file_extension": ".py",
   "mimetype": "text/x-python",
   "name": "python",
   "nbconvert_exporter": "python",
   "pygments_lexer": "ipython3",
   "version": "3.13.5"
  }
 },
 "nbformat": 4,
 "nbformat_minor": 4
}
